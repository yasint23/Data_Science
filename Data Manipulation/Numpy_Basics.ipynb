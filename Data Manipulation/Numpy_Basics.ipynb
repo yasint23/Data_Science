{
 "cells": [
  {
   "cell_type": "markdown",
   "id": "78e946e8-433f-4938-82da-0e1ac0d0ded6",
   "metadata": {},
   "source": [
    "**Data Manipulation:**"
   ]
  },
  {
   "cell_type": "code",
   "execution_count": 2,
   "id": "21fa48fb-d9a4-4ef5-9de5-3ad6acd9b534",
   "metadata": {},
   "outputs": [],
   "source": [
    "a = [1,2,3,4]\n",
    "b = [2,3,4,5]"
   ]
  },
  {
   "cell_type": "code",
   "execution_count": 6,
   "id": "8ccfc39f-1a5e-4e66-907a-0f25ec1a980d",
   "metadata": {},
   "outputs": [
    {
     "data": {
      "text/plain": [
       "[2, 6, 12, 20]"
      ]
     },
     "execution_count": 6,
     "metadata": {},
     "output_type": "execute_result"
    }
   ],
   "source": [
    "ab = []\n",
    "for i in range(0,len(a)):\n",
    "    ab.append(a[i]*b[i])\n",
    "ab"
   ]
  },
  {
   "cell_type": "code",
   "execution_count": 7,
   "id": "40666538-42e2-4557-bb47-7f7296697169",
   "metadata": {},
   "outputs": [],
   "source": [
    "import numpy as np"
   ]
  },
  {
   "cell_type": "code",
   "execution_count": 9,
   "id": "96799825-1377-4143-9665-2ec5f9bd8ec7",
   "metadata": {},
   "outputs": [],
   "source": [
    "a = np.array([1,2,3,4])\n",
    "b = np.array([2,3,4,5])"
   ]
  },
  {
   "cell_type": "code",
   "execution_count": 10,
   "id": "66b4b6aa-a763-4838-9959-4525ae1288a0",
   "metadata": {},
   "outputs": [
    {
     "data": {
      "text/plain": [
       "array([ 2,  6, 12, 20])"
      ]
     },
     "execution_count": 10,
     "metadata": {},
     "output_type": "execute_result"
    }
   ],
   "source": [
    "a*b"
   ]
  },
  {
   "cell_type": "markdown",
   "id": "8c416913-da20-40a8-ab73-12e62967d3b1",
   "metadata": {},
   "source": [
    "_Numpy Array:_"
   ]
  },
  {
   "cell_type": "code",
   "execution_count": 11,
   "id": "db5d018c-16bd-4b0d-994b-b1f202c7962b",
   "metadata": {},
   "outputs": [],
   "source": [
    "import numpy as np"
   ]
  },
  {
   "cell_type": "code",
   "execution_count": 12,
   "id": "cbbe9c8e-a7c4-4b30-be41-c6b61ea14e86",
   "metadata": {},
   "outputs": [
    {
     "data": {
      "text/plain": [
       "array([1, 2, 3, 4, 5])"
      ]
     },
     "execution_count": 12,
     "metadata": {},
     "output_type": "execute_result"
    }
   ],
   "source": [
    "np.array([1,2,3,4,5])"
   ]
  },
  {
   "cell_type": "code",
   "execution_count": 13,
   "id": "c125df3f-d23a-4e98-87f9-a82776cbc4c2",
   "metadata": {},
   "outputs": [
    {
     "data": {
      "text/plain": [
       "array([2. , 3.4, 6. , 7. , 8. ])"
      ]
     },
     "execution_count": 13,
     "metadata": {},
     "output_type": "execute_result"
    }
   ],
   "source": [
    "np.array([2,3.4,6,7,8])"
   ]
  },
  {
   "cell_type": "code",
   "execution_count": 14,
   "id": "41b710d0-7227-4a3e-9a5f-645544b3bd6f",
   "metadata": {},
   "outputs": [
    {
     "data": {
      "text/plain": [
       "array([2, 3, 6, 7])"
      ]
     },
     "execution_count": 14,
     "metadata": {},
     "output_type": "execute_result"
    }
   ],
   "source": [
    "np.array([2, 3.4, 6, 7.8], dtype =\"int\")"
   ]
  },
  {
   "cell_type": "code",
   "execution_count": 17,
   "id": "71bc6178-752b-4b7d-8e2e-97078d589c51",
   "metadata": {},
   "outputs": [
    {
     "data": {
      "text/plain": [
       "array([0, 0, 0, 0, 0, 0, 0, 0, 0, 0])"
      ]
     },
     "execution_count": 17,
     "metadata": {},
     "output_type": "execute_result"
    }
   ],
   "source": [
    "np.zeros(10, dtype = int)"
   ]
  },
  {
   "cell_type": "code",
   "execution_count": 16,
   "id": "55d8f81c-ad01-4c43-a1a2-83f0a82e4d11",
   "metadata": {},
   "outputs": [
    {
     "data": {
      "text/plain": [
       "array([[1, 1, 1, 1, 1],\n",
       "       [1, 1, 1, 1, 1],\n",
       "       [1, 1, 1, 1, 1]])"
      ]
     },
     "execution_count": 16,
     "metadata": {},
     "output_type": "execute_result"
    }
   ],
   "source": [
    "np.ones((3,5), dtype = int)"
   ]
  },
  {
   "cell_type": "code",
   "execution_count": 20,
   "id": "f5bf4ce9-879f-4d32-b0d8-49710ab8e3eb",
   "metadata": {},
   "outputs": [
    {
     "data": {
      "text/plain": [
       "array([ 0,  3,  6,  9, 12, 15, 18, 21, 24, 27, 30])"
      ]
     },
     "execution_count": 20,
     "metadata": {},
     "output_type": "execute_result"
    }
   ],
   "source": [
    "np.arange(0,32, 3)"
   ]
  },
  {
   "cell_type": "code",
   "execution_count": 22,
   "id": "696051ef-51db-43f0-ab13-094189cd92f8",
   "metadata": {},
   "outputs": [
    {
     "data": {
      "text/plain": [
       "array([0.        , 0.14285714, 0.28571429, 0.42857143, 0.57142857,\n",
       "       0.71428571, 0.85714286, 1.        ])"
      ]
     },
     "execution_count": 22,
     "metadata": {},
     "output_type": "execute_result"
    }
   ],
   "source": [
    "np.linspace(0,1, 8)"
   ]
  },
  {
   "cell_type": "code",
   "execution_count": 23,
   "id": "ab389ba4-4dc7-4179-be55-da2cccd04228",
   "metadata": {},
   "outputs": [
    {
     "data": {
      "text/plain": [
       "array([[3, 0, 2, 1],\n",
       "       [1, 1, 9, 7],\n",
       "       [7, 1, 3, 6]])"
      ]
     },
     "execution_count": 23,
     "metadata": {},
     "output_type": "execute_result"
    }
   ],
   "source": [
    "np.random.randint(0,10, (3,4))"
   ]
  },
  {
   "cell_type": "code",
   "execution_count": null,
   "id": "84130c5f-632b-4be1-aa39-4515e8801ccf",
   "metadata": {},
   "outputs": [],
   "source": []
  }
 ],
 "metadata": {
  "kernelspec": {
   "display_name": "Python 3",
   "language": "python",
   "name": "python3"
  },
  "language_info": {
   "codemirror_mode": {
    "name": "ipython",
    "version": 3
   },
   "file_extension": ".py",
   "mimetype": "text/x-python",
   "name": "python",
   "nbconvert_exporter": "python",
   "pygments_lexer": "ipython3",
   "version": "3.8.8"
  }
 },
 "nbformat": 4,
 "nbformat_minor": 5
}
