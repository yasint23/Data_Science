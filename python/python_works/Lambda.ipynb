{
 "cells": [
  {
   "cell_type": "code",
   "execution_count": 1,
   "id": "d57a3816",
   "metadata": {},
   "outputs": [
    {
     "name": "stdout",
     "output_type": "stream",
     "text": [
      "9\n"
     ]
    }
   ],
   "source": [
    "print((lambda x: x**2)(3))"
   ]
  },
  {
   "cell_type": "code",
   "execution_count": 2,
   "id": "a31dad1d",
   "metadata": {},
   "outputs": [
    {
     "name": "stdout",
     "output_type": "stream",
     "text": [
      "4.0\n"
     ]
    }
   ],
   "source": [
    "print((lambda x,y: (x+y)/2)(3,5))"
   ]
  },
  {
   "cell_type": "code",
   "execution_count": 6,
   "id": "8580cb5f",
   "metadata": {},
   "outputs": [
    {
     "name": "stdout",
     "output_type": "stream",
     "text": [
      "3 : odd\n",
      "4 : even\n",
      "5 : odd\n",
      "6 : even\n",
      "7 : odd\n",
      "9 : odd\n"
     ]
    }
   ],
   "source": [
    "for x in (3,4,5,6,7,9):\n",
    "    print(x,\":\",(lambda x: \"even\" if x % 2 == 0 else \"odd\")(x))"
   ]
  },
  {
   "cell_type": "code",
   "execution_count": 7,
   "id": "d18e87cb",
   "metadata": {},
   "outputs": [
    {
     "name": "stdout",
     "output_type": "stream",
     "text": [
      "esya\n"
     ]
    }
   ],
   "source": [
    "print((lambda i: i[::-1])(\"ayse\"))"
   ]
  },
  {
   "cell_type": "code",
   "execution_count": 9,
   "id": "67f5c857",
   "metadata": {},
   "outputs": [
    {
     "name": "stdout",
     "output_type": "stream",
     "text": [
      "[1, 27, 64, 125, 216, 729]\n"
     ]
    }
   ],
   "source": [
    "numbers =[1,3,4,5,6,9]    \n",
    "a=map(lambda x: x**3,numbers)\n",
    "print(list(a))"
   ]
  },
  {
   "cell_type": "code",
   "execution_count": 12,
   "id": "642b5880",
   "metadata": {},
   "outputs": [
    {
     "name": "stdout",
     "output_type": "stream",
     "text": [
      "[6.0, 6.0, 6.0, 6.0]\n"
     ]
    }
   ],
   "source": [
    "nums1 = [9,6,7,4]\n",
    "nums2 = [3,6,5,8] \n",
    "mean = map(lambda x,y: (x+y)/2, nums1, nums2)\n",
    "print(list(mean))"
   ]
  },
  {
   "cell_type": "code",
   "execution_count": 13,
   "id": "37bbed30",
   "metadata": {},
   "outputs": [
    {
     "data": {
      "text/plain": [
       "[13, 17, 14]"
      ]
     },
     "execution_count": 13,
     "metadata": {},
     "output_type": "execute_result"
    }
   ],
   "source": [
    "word = [\"ali veli deli\", \"mehmet aga kuzeni\", \"cemilin-bacisi\"]\n",
    "list(map(len, word))"
   ]
  },
  {
   "cell_type": "code",
   "execution_count": 14,
   "id": "bd1faef9",
   "metadata": {},
   "outputs": [
    {
     "name": "stdout",
     "output_type": "stream",
     "text": [
      "[0, 2, 4, 6, 8]\n"
     ]
    }
   ],
   "source": [
    "first_ten = [0,1,2,3,4,5,6,7,8,9]\n",
    "even = filter(lambda x: x % 2 == 0, first_ten)\n",
    "print(list(even))"
   ]
  },
  {
   "cell_type": "code",
   "execution_count": 15,
   "id": "e55087a3",
   "metadata": {},
   "outputs": [
    {
     "name": "stdout",
     "output_type": "stream",
     "text": [
      "['swim', 'me', 'kiwi']\n"
     ]
    }
   ],
   "source": [
    "words = [\"apple\", \"swim\", \"clock\", \"me\", \"kiwi\", \"banana\"]\n",
    "liste = filter(lambda x: len(x) < 5, words)\n",
    "print(list(liste))"
   ]
  },
  {
   "cell_type": "code",
   "execution_count": 16,
   "id": "26ab10ca",
   "metadata": {},
   "outputs": [
    {
     "name": "stdout",
     "output_type": "stream",
     "text": [
      "swim\n",
      "me\n",
      "kiwi\n"
     ]
    }
   ],
   "source": [
    "for i in filter (lambda x: len(x)<5,words):\n",
    "    print(i)"
   ]
  },
  {
   "cell_type": "code",
   "execution_count": 2,
   "id": "a2a05cc2",
   "metadata": {},
   "outputs": [
    {
     "name": "stdout",
     "output_type": "stream",
     "text": [
      "a e i\n"
     ]
    }
   ],
   "source": [
    "vowels=['a','e','i','o','u']\n",
    "first_ten = ['a', 'b', 'c', 'd', 'e', 'f', 'g', 'h', 'i', 'j']\n",
    "\n",
    "filtered_vowels = filter(lambda x: x in vowels, first_ten)\n",
    "print(* filtered_vowels)"
   ]
  },
  {
   "cell_type": "code",
   "execution_count": 19,
   "id": "b1542150",
   "metadata": {},
   "outputs": [
    {
     "name": "stdout",
     "output_type": "stream",
     "text": [
      "i love you\n",
      "you ate much\n",
      "he works hard\n"
     ]
    }
   ],
   "source": [
    "words1 = [\"you\", \"much\",\"hard\"]\n",
    "words2 = [\"i\",\"you\",\"he\"]\n",
    "words3 = [\"love\",\"ate\",\"works\"]\n",
    "sentence = map(lambda x,y,z: x + \" \" + y + \" \" + z, words2,words3,words1)\n",
    "for i in sentence:\n",
    "    print(i)"
   ]
  },
  {
   "cell_type": "code",
   "execution_count": 25,
   "id": "47f18891",
   "metadata": {},
   "outputs": [
    {
     "name": "stdout",
     "output_type": "stream",
     "text": [
      "45\n"
     ]
    }
   ],
   "source": [
    "multiply = lambda x: x * 4\n",
    "add = lambda x, y: x + y\n",
    "print(add(multiply(10), 5))"
   ]
  },
  {
   "cell_type": "code",
   "execution_count": null,
   "id": "45d6f1f3",
   "metadata": {},
   "outputs": [],
   "source": []
  }
 ],
 "metadata": {
  "kernelspec": {
   "display_name": "Python 3",
   "language": "python",
   "name": "python3"
  },
  "language_info": {
   "codemirror_mode": {
    "name": "ipython",
    "version": 3
   },
   "file_extension": ".py",
   "mimetype": "text/x-python",
   "name": "python",
   "nbconvert_exporter": "python",
   "pygments_lexer": "ipython3",
   "version": "3.8.8"
  }
 },
 "nbformat": 4,
 "nbformat_minor": 5
}
