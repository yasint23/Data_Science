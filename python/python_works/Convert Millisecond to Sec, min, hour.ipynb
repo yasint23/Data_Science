{
 "cells": [
  {
   "cell_type": "markdown",
   "id": "374b09ff",
   "metadata": {},
   "source": [
    "Write program that converts the given milliseconds into hours, minutes, and seconds. The program should convert only from milliseconds to hours/minutes/seconds, not vice versa and during the conversion following notes should be taken into consideration.\n",
    "\n",
    "If the calculated time of hours is 0, it should not be shown in the output.\n",
    "\n",
    "If the calculated time of minutes is 0, it should not be shown in the output.\n",
    "\n",
    "If the calculated time of seconds is 0, it should not be shown in the output.\n",
    "\n",
    "If the milliseconds is greater than 1000, remainder milliseconds should not be shown in the output.\n",
    "\n",
    "If milliseconds given is less than 1000, only milliseconds should be shown in the output.\n",
    "\n",
    "Output should always be string in the format shown in the examples."
   ]
  },
  {
   "cell_type": "code",
   "execution_count": null,
   "id": "10e255d9",
   "metadata": {},
   "outputs": [],
   "source": [
    "#This program converts milliseconds into hours, minutes, and seconds\n",
    "#To exit the program, please type \"exit\"\n",
    "\n",
    "time = int(input(\"Please enter the milliseconds (should be greater than zero) :\"))\n",
    "while time > 0:\n",
    "if time > 1000:\n",
    "    sec = time / 1000\n",
    "    min = time / 6000\n",
    "    hour = time / 3600000\n",
    "    print(int())\n",
    "        \n"
   ]
  }
 ],
 "metadata": {
  "kernelspec": {
   "display_name": "Python 3",
   "language": "python",
   "name": "python3"
  },
  "language_info": {
   "codemirror_mode": {
    "name": "ipython",
    "version": 3
   },
   "file_extension": ".py",
   "mimetype": "text/x-python",
   "name": "python",
   "nbconvert_exporter": "python",
   "pygments_lexer": "ipython3",
   "version": "3.8.8"
  }
 },
 "nbformat": 4,
 "nbformat_minor": 5
}
