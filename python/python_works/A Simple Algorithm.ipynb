{
 "cells": [
  {
   "cell_type": "code",
   "execution_count": 4,
   "id": "1a6fd598",
   "metadata": {},
   "outputs": [
    {
     "name": "stdout",
     "output_type": "stream",
     "text": [
      "['4', '5', '3', '3', '6', '5', '4', '0', '0', '5', '6', '7', '8']\n"
     ]
    }
   ],
   "source": [
    "n = 8765004563354\n",
    "print(list(str(n))[::-1])"
   ]
  },
  {
   "cell_type": "code",
   "execution_count": 14,
   "id": "2fa26330",
   "metadata": {},
   "outputs": [
    {
     "data": {
      "text/plain": [
       "24"
      ]
     },
     "execution_count": 14,
     "metadata": {},
     "output_type": "execute_result"
    }
   ],
   "source": [
    "def my_factorial(n):\n",
    "    result = 1\n",
    "    for i in range(1,n+1):\n",
    "        result *= i\n",
    "    return result\n",
    "my_factorial(4)"
   ]
  },
  {
   "cell_type": "code",
   "execution_count": 17,
   "id": "9d48977f",
   "metadata": {},
   "outputs": [],
   "source": [
    "def my_facto(n) :\n",
    "    if n == 1 or n == 0 :\n",
    "        return 1\n",
    "    else:\n",
    "        return n * my_facto(n - 1)"
   ]
  },
  {
   "cell_type": "code",
   "execution_count": 18,
   "id": "62fa7f7b",
   "metadata": {},
   "outputs": [
    {
     "data": {
      "text/plain": [
       "24"
      ]
     },
     "execution_count": 18,
     "metadata": {},
     "output_type": "execute_result"
    }
   ],
   "source": [
    "my_facto(4)"
   ]
  },
  {
   "cell_type": "code",
   "execution_count": 21,
   "id": "c2121f2e",
   "metadata": {
    "scrolled": true
   },
   "outputs": [],
   "source": [
    "ops = {\"+\" : (lambda x,y : x + y),\n",
    "       \"-\": (lambda x,y : x - y),\n",
    "      \"*\": (lambda x,y : x * y),\n",
    "      \"/\" : (lambda x,y : x / y)}\n"
   ]
  },
  {
   "cell_type": "code",
   "execution_count": 22,
   "id": "b50ffbd9",
   "metadata": {},
   "outputs": [
    {
     "data": {
      "text/plain": [
       "8"
      ]
     },
     "execution_count": 22,
     "metadata": {},
     "output_type": "execute_result"
    }
   ],
   "source": [
    "ops [\"+\"](3,5)"
   ]
  },
  {
   "cell_type": "code",
   "execution_count": 23,
   "id": "2dd9ad73",
   "metadata": {},
   "outputs": [
    {
     "data": {
      "text/plain": [
       "24"
      ]
     },
     "execution_count": 23,
     "metadata": {},
     "output_type": "execute_result"
    }
   ],
   "source": [
    "ops [\"*\"](4,6)"
   ]
  },
  {
   "cell_type": "code",
   "execution_count": null,
   "id": "0f93e89e",
   "metadata": {},
   "outputs": [],
   "source": []
  }
 ],
 "metadata": {
  "kernelspec": {
   "display_name": "Python 3",
   "language": "python",
   "name": "python3"
  },
  "language_info": {
   "codemirror_mode": {
    "name": "ipython",
    "version": 3
   },
   "file_extension": ".py",
   "mimetype": "text/x-python",
   "name": "python",
   "nbconvert_exporter": "python",
   "pygments_lexer": "ipython3",
   "version": "3.8.8"
  }
 },
 "nbformat": 4,
 "nbformat_minor": 5
}
