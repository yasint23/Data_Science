{
 "cells": [
  {
   "cell_type": "markdown",
   "id": "5d100e0d",
   "metadata": {},
   "source": [
    "# Modules:"
   ]
  },
  {
   "cell_type": "code",
   "execution_count": 1,
   "id": "d27acec9",
   "metadata": {
    "scrolled": true
   },
   "outputs": [
    {
     "name": "stdout",
     "output_type": "stream",
     "text": [
      "['__doc__', '__loader__', '__name__', '__package__', '__spec__', 'acos', 'acosh', 'asin', 'asinh', 'atan', 'atan2', 'atanh', 'ceil', 'comb', 'copysign', 'cos', 'cosh', 'degrees', 'dist', 'e', 'erf', 'erfc', 'exp', 'expm1', 'fabs', 'factorial', 'floor', 'fmod', 'frexp', 'fsum', 'gamma', 'gcd', 'hypot', 'inf', 'isclose', 'isfinite', 'isinf', 'isnan', 'isqrt', 'ldexp', 'lgamma', 'log', 'log10', 'log1p', 'log2', 'modf', 'nan', 'perm', 'pi', 'pow', 'prod', 'radians', 'remainder', 'sin', 'sinh', 'sqrt', 'tan', 'tanh', 'tau', 'trunc']\n"
     ]
    }
   ],
   "source": [
    "import math\n",
    "print(dir(math))"
   ]
  },
  {
   "cell_type": "code",
   "execution_count": 1,
   "id": "bb5de606",
   "metadata": {},
   "outputs": [
    {
     "name": "stdout",
     "output_type": "stream",
     "text": [
      "3.0\n",
      "3.141592653589793\n",
      "24\n"
     ]
    }
   ],
   "source": [
    "from math import pi,factorial,log10\n",
    "print(log10(1000))\n",
    "print(pi)\n",
    "print(factorial(4))"
   ]
  },
  {
   "cell_type": "code",
   "execution_count": 3,
   "id": "37d3a2e8",
   "metadata": {},
   "outputs": [
    {
     "name": "stdout",
     "output_type": "stream",
     "text": [
      "0123456789\n",
      "!\"#$%&'()*+,-./:;<=>?@[\\]^_`{|}~\n"
     ]
    }
   ],
   "source": [
    "import string as stg\n",
    "print(stg.digits)\n",
    "print(stg.punctuation)"
   ]
  },
  {
   "cell_type": "code",
   "execution_count": 3,
   "id": "085029d2",
   "metadata": {},
   "outputs": [
    {
     "name": "stdout",
     "output_type": "stream",
     "text": [
      "2021-08-18 20:51:31.279042\n"
     ]
    }
   ],
   "source": [
    "import datetime\n",
    "print(datetime.datetime.now())"
   ]
  },
  {
   "cell_type": "code",
   "execution_count": 2,
   "id": "d5e7512a",
   "metadata": {},
   "outputs": [
    {
     "data": {
      "text/plain": [
       "14246"
      ]
     },
     "execution_count": 2,
     "metadata": {},
     "output_type": "execute_result"
    }
   ],
   "source": [
    "from datetime import date\n",
    "birth=date(1982, 8, 18)\n",
    "today=date(2021, 8, 19)\n",
    "life_day = date.toordinal(today) - date.toordinal(birth)\n",
    "life_day"
   ]
  },
  {
   "cell_type": "code",
   "execution_count": 5,
   "id": "9e6e2265",
   "metadata": {},
   "outputs": [
    {
     "data": {
      "text/plain": [
       "'Zehra Zehra Zehra Zehra Zehra '"
      ]
     },
     "execution_count": 5,
     "metadata": {},
     "output_type": "execute_result"
    }
   ],
   "source": [
    "def repeater(n):\n",
    "    return lambda x: x*n\n",
    "repeat_5 = repeater(5)\n",
    "repeat_5(\"Zehra\" + \" \")"
   ]
  },
  {
   "cell_type": "code",
   "execution_count": 6,
   "id": "13b25d17",
   "metadata": {},
   "outputs": [
    {
     "data": {
      "text/plain": [
       "25"
      ]
     },
     "execution_count": 6,
     "metadata": {},
     "output_type": "execute_result"
    }
   ],
   "source": [
    "def modular(n):\n",
    "    return lambda x: x**n\n",
    "power_2 = modular(2)\n",
    "power_2(5)"
   ]
  },
  {
   "cell_type": "code",
   "execution_count": 7,
   "id": "68a22545",
   "metadata": {},
   "outputs": [
    {
     "data": {
      "text/plain": [
       "125"
      ]
     },
     "execution_count": 7,
     "metadata": {},
     "output_type": "execute_result"
    }
   ],
   "source": [
    "power_3 = modular(3)\n",
    "power_3(5)"
   ]
  },
  {
   "cell_type": "code",
   "execution_count": 12,
   "id": "a636cbd9",
   "metadata": {},
   "outputs": [
    {
     "name": "stdout",
     "output_type": "stream",
     "text": [
      "hello world :)\n"
     ]
    }
   ],
   "source": [
    "def functioner(emoji):\n",
    "    return lambda message: print(message,emoji)\n",
    "smile_print = functioner(\":)\")\n",
    "smile_print(\"hello world\")"
   ]
  },
  {
   "cell_type": "code",
   "execution_count": 13,
   "id": "837507ae",
   "metadata": {},
   "outputs": [
    {
     "name": "stdout",
     "output_type": "stream",
     "text": [
      "Shut up :(\n"
     ]
    }
   ],
   "source": [
    "sad_print = functioner(\":(\")\n",
    "sad_print(\"Shut up\")"
   ]
  },
  {
   "cell_type": "code",
   "execution_count": 19,
   "id": "11ebf11e",
   "metadata": {},
   "outputs": [
    {
     "data": {
      "text/plain": [
       "tuple"
      ]
     },
     "execution_count": 19,
     "metadata": {},
     "output_type": "execute_result"
    }
   ],
   "source": [
    "def x():\n",
    "    return 1,2,3,4\n",
    "type(x())"
   ]
  },
  {
   "cell_type": "code",
   "execution_count": 20,
   "id": "174417a3",
   "metadata": {},
   "outputs": [
    {
     "data": {
      "text/plain": [
       "(1, 2, 3, 4)"
      ]
     },
     "execution_count": 20,
     "metadata": {},
     "output_type": "execute_result"
    }
   ],
   "source": [
    "x()"
   ]
  },
  {
   "cell_type": "code",
   "execution_count": 25,
   "id": "88c03c41",
   "metadata": {},
   "outputs": [
    {
     "name": "stdout",
     "output_type": "stream",
     "text": [
      "1\n",
      "2\n",
      "3\n",
      "4\n"
     ]
    }
   ],
   "source": [
    "for i in x():\n",
    "    print(i)"
   ]
  },
  {
   "cell_type": "code",
   "execution_count": 31,
   "id": "77821778",
   "metadata": {},
   "outputs": [
    {
     "data": {
      "text/plain": [
       "4"
      ]
     },
     "execution_count": 31,
     "metadata": {},
     "output_type": "execute_result"
    }
   ],
   "source": [
    "num = [1,4,4]\n",
    "max(num, key = num.count)"
   ]
  },
  {
   "cell_type": "code",
   "execution_count": 32,
   "id": "23997b29",
   "metadata": {},
   "outputs": [
    {
     "data": {
      "text/plain": [
       "2"
      ]
     },
     "execution_count": 32,
     "metadata": {},
     "output_type": "execute_result"
    }
   ],
   "source": [
    "num.count(4)"
   ]
  },
  {
   "cell_type": "code",
   "execution_count": 33,
   "id": "ab358bab",
   "metadata": {},
   "outputs": [],
   "source": [
    "def equal(a,b,c):\n",
    "    numbers = [a,b,c]\n",
    "    res = numbers.count(max(numbers, key = numbers.count))\n",
    "    if res > 1:\n",
    "        return res\n",
    "    else:\n",
    "        return 0"
   ]
  },
  {
   "cell_type": "code",
   "execution_count": 35,
   "id": "2ca30707",
   "metadata": {},
   "outputs": [
    {
     "data": {
      "text/plain": [
       "2"
      ]
     },
     "execution_count": 35,
     "metadata": {},
     "output_type": "execute_result"
    }
   ],
   "source": [
    "equal(1,4,4)"
   ]
  },
  {
   "cell_type": "code",
   "execution_count": 38,
   "id": "5e24efbd",
   "metadata": {},
   "outputs": [],
   "source": [
    "def equall(*arg):\n",
    "    numbers = list(arg)\n",
    "    res = numbers.count(max(numbers, key = numbers.count))\n",
    "    if res > 1:\n",
    "        return res\n",
    "    else:\n",
    "        return 0"
   ]
  },
  {
   "cell_type": "code",
   "execution_count": 40,
   "id": "33e85c67",
   "metadata": {},
   "outputs": [
    {
     "data": {
      "text/plain": [
       "4"
      ]
     },
     "execution_count": 40,
     "metadata": {},
     "output_type": "execute_result"
    }
   ],
   "source": [
    "equall(1,3,4,6,3,3,5,3)"
   ]
  },
  {
   "cell_type": "code",
   "execution_count": 44,
   "id": "f94ab4c6",
   "metadata": {},
   "outputs": [],
   "source": [
    "equallambda = lambda a,b,c: [a,b,c].count(max([a,b,c], key = [a,b,c].count))\\\n",
    "if [a,b,c].count(max([a,b,c], key = [a,b,c].count)) > 1 else 0"
   ]
  },
  {
   "cell_type": "code",
   "execution_count": 45,
   "id": "168f7b25",
   "metadata": {},
   "outputs": [
    {
     "data": {
      "text/plain": [
       "2"
      ]
     },
     "execution_count": 45,
     "metadata": {},
     "output_type": "execute_result"
    }
   ],
   "source": [
    "equallambda(1,4,4)"
   ]
  },
  {
   "cell_type": "code",
   "execution_count": 46,
   "id": "9331c069",
   "metadata": {},
   "outputs": [],
   "source": [
    "equallambdaa = lambda *x : list(x).count(max(list(x), key = list(x).count))"
   ]
  },
  {
   "cell_type": "code",
   "execution_count": 47,
   "id": "00071b3b",
   "metadata": {},
   "outputs": [
    {
     "data": {
      "text/plain": [
       "4"
      ]
     },
     "execution_count": 47,
     "metadata": {},
     "output_type": "execute_result"
    }
   ],
   "source": [
    "equallambdaa(1,2,3,3,6,7,3,3,4)"
   ]
  },
  {
   "cell_type": "code",
   "execution_count": null,
   "id": "15789794",
   "metadata": {},
   "outputs": [],
   "source": []
  }
 ],
 "metadata": {
  "kernelspec": {
   "display_name": "Python 3",
   "language": "python",
   "name": "python3"
  },
  "language_info": {
   "codemirror_mode": {
    "name": "ipython",
    "version": 3
   },
   "file_extension": ".py",
   "mimetype": "text/x-python",
   "name": "python",
   "nbconvert_exporter": "python",
   "pygments_lexer": "ipython3",
   "version": "3.8.8"
  }
 },
 "nbformat": 4,
 "nbformat_minor": 5
}
