{
 "cells": [
  {
   "cell_type": "code",
   "execution_count": 16,
   "id": "39786029",
   "metadata": {},
   "outputs": [
    {
     "ename": "IndentationError",
     "evalue": "expected an indented block (<ipython-input-16-c974b8da7794>, line 4)",
     "output_type": "error",
     "traceback": [
      "\u001b[1;36m  File \u001b[1;32m\"<ipython-input-16-c974b8da7794>\"\u001b[1;36m, line \u001b[1;32m4\u001b[0m\n\u001b[1;33m    return f\"{i}:{new_sentence.count(i)}\u001b[0m\n\u001b[1;37m    ^\u001b[0m\n\u001b[1;31mIndentationError\u001b[0m\u001b[1;31m:\u001b[0m expected an indented block\n"
     ]
    }
   ],
   "source": [
    "sentence = input(\"Enter Sentence: \")\n",
    "\n",
    "for i in range(0,len(new_sentence)):\n",
    "return f\"{i}:{new_sentence.count(i)}"
   ]
  },
  {
   "cell_type": "code",
   "execution_count": null,
   "id": "87f42a39",
   "metadata": {},
   "outputs": [],
   "source": [
    "  for i in range(0,len(new_sentence)):\n",
    "        return f\"{i}:{new_sentence.count(i)}\""
   ]
  },
  {
   "cell_type": "code",
   "execution_count": null,
   "id": "15e914ea",
   "metadata": {},
   "outputs": [],
   "source": []
  }
 ],
 "metadata": {
  "kernelspec": {
   "display_name": "Python 3",
   "language": "python",
   "name": "python3"
  },
  "language_info": {
   "codemirror_mode": {
    "name": "ipython",
    "version": 3
   },
   "file_extension": ".py",
   "mimetype": "text/x-python",
   "name": "python",
   "nbconvert_exporter": "python",
   "pygments_lexer": "ipython3",
   "version": "3.8.8"
  }
 },
 "nbformat": 4,
 "nbformat_minor": 5
}
